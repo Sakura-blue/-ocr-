{
 "cells": [
  {
   "cell_type": "markdown",
   "id": "169dfd6b",
   "metadata": {},
   "source": [
    "## Description:\n",
    "这个笔记本把前面两个流程合起来封装成一个函数，给定一张图片，最终输出识别的文字信息"
   ]
  },
  {
   "cell_type": "code",
   "execution_count": 1,
   "id": "1f5d3193",
   "metadata": {},
   "outputs": [],
   "source": [
    "import numpy as np\n",
    "import cv2\n",
    "import os\n",
    "\n",
    "from utils import resize, cv_show, four_point_transform, get_screenCnt, get_rotated_img, ocr_check"
   ]
  },
  {
   "cell_type": "code",
   "execution_count": 2,
   "id": "ef55aed7",
   "metadata": {},
   "outputs": [],
   "source": [
    "def img_ocr(image):\n",
    "    # resize操作之前，需要保存resize的比例，以及原始图像\n",
    "    # 下面要按照500的比例对图像进行resize， 那么原始图像的每个像素点的位置都会改变，记住ratio是为了最终能还原到原始的位置上去\n",
    "    ratio = image.shape[0] / 500.0\n",
    "    orig = image.copy()\n",
    "    \n",
    "    image = resize(orig, height=500)\n",
    "    \n",
    "    # 预处理 转成灰度图 -> 高斯滤波 -> Canny边缘检测\n",
    "    gray = cv2.cvtColor(image, cv2.COLOR_BGR2GRAY)\n",
    "    #gray = cv2.GaussianBlur(gray, (5, 5), 0)   边缘检测算法其实就是用的高斯滤波，所以这里这个不用发现更加清晰些\n",
    "    edged = cv2.Canny(gray, 75, 200)\n",
    "    \n",
    "    # 轮廓检测\n",
    "    cnts, hierarchy = cv2.findContours(edged.copy(), cv2.RETR_LIST, cv2.CHAIN_APPROX_SIMPLE)\n",
    "    cnts = sorted(cnts, key = cv2.contourArea, reverse=True)[:5]\n",
    "    screenCnt = get_screenCnt(cnts)\n",
    "    \n",
    "    # 透视变换\n",
    "    warped = four_point_transform(orig, screenCnt.reshape(4, 2)*ratio)\n",
    "    \n",
    "    # 二值处理\n",
    "    warped = cv2.cvtColor(warped, cv2.COLOR_BGR2GRAY)\n",
    "    ref = cv2.threshold(warped, 150, 255, cv2.THRESH_BINARY)[1]\n",
    "    \n",
    "    rotated_img = get_rotated_img(ref)\n",
    "    resize_img = resize(rotated_img, height=600)\n",
    "    # 保存到文件\n",
    "    cv2.imwrite('images/scan.jpg', resize_img)\n",
    "    # cv_show('res', resize_img)\n",
    "    \n",
    "    # ocr识别\n",
    "    image = cv2.imread('images/scan.jpg')\n",
    "    text = ocr_check(image)\n",
    "    \n",
    "    return text"
   ]
  },
  {
   "cell_type": "code",
   "execution_count": 3,
   "id": "5b5f7156",
   "metadata": {},
   "outputs": [],
   "source": [
    "# 读取图片\n",
    "image = cv2.imread(\"images/receipt.jpg\")  \n",
    "#cv_show('img', image)     # 原始图片是2448*3264, 太大了，下面需要进行resize操作"
   ]
  },
  {
   "cell_type": "code",
   "execution_count": 4,
   "id": "41d99145",
   "metadata": {},
   "outputs": [],
   "source": [
    "text = img_ocr(image)"
   ]
  },
  {
   "cell_type": "code",
   "execution_count": 7,
   "id": "9b5fb0ff",
   "metadata": {},
   "outputs": [
    {
     "name": "stdout",
     "output_type": "stream",
     "text": [
      "WHOLE FOODS MARKET - WESTPORT, CT 06880\n",
      "399 POST RD WEST - (203) 227-6858\n",
      "\n",
      ".99\n",
      ".99\n",
      "\n",
      "365 - BACON LS NP 4\n",
      "\n",
      "365 _ BACON LS NP 4\n",
      "365 _ BACON LS NP 4.99\n",
      "365 _ BACON LS NP 4.99\n",
      "BROTH CHIC NP 2.19\n",
      "FLOUR ALMOND NP 11.99\n",
      "CHKN BRST BNLSS SK NP 18.80\n",
      "HEAVY CREAM NP _ 3.39\n",
      "BALSMC REDUCT NP _ 6.49\n",
      "BEEF GRND 85/15 NP - 5.04\n",
      "\n",
      "  \n",
      "\n",
      "wow wow wow wow ow ok\n",
      "\n",
      "\n"
     ]
    }
   ],
   "source": [
    "print(text)"
   ]
  }
 ],
 "metadata": {
  "kernelspec": {
   "display_name": "Python 3 (ipykernel)",
   "language": "python",
   "name": "python3"
  },
  "language_info": {
   "codemirror_mode": {
    "name": "ipython",
    "version": 3
   },
   "file_extension": ".py",
   "mimetype": "text/x-python",
   "name": "python",
   "nbconvert_exporter": "python",
   "pygments_lexer": "ipython3",
   "version": "3.7.10"
  }
 },
 "nbformat": 4,
 "nbformat_minor": 5
}
