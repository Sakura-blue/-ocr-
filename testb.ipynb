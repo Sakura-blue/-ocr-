{
 "cells": [
  {
   "cell_type": "code",
   "execution_count": 3,
   "metadata": {},
   "outputs": [
    {
     "name": "stdout",
     "output_type": "stream",
     "text": [
      "[[[140 136 148]\n",
      "  [138 134 146]\n",
      "  [136 132 144]\n",
      "  ...\n",
      "  [ 35  50  69]\n",
      "  [ 36  52  69]\n",
      "  [ 31  47  64]]\n",
      "\n",
      " [[138 134 145]\n",
      "  [139 135 146]\n",
      "  [139 135 146]\n",
      "  ...\n",
      "  [ 33  48  67]\n",
      "  [ 32  47  66]\n",
      "  [ 29  44  63]]\n",
      "\n",
      " [[139 135 146]\n",
      "  [138 135 144]\n",
      "  [136 133 142]\n",
      "  ...\n",
      "  [ 28  42  64]\n",
      "  [ 26  40  62]\n",
      "  [ 27  40  62]]\n",
      "\n",
      " ...\n",
      "\n",
      " [[ 33  49  86]\n",
      "  [ 35  51  88]\n",
      "  [ 28  44  81]\n",
      "  ...\n",
      "  [  5  29  51]\n",
      "  [ 21  45  67]\n",
      "  [ 40  64  86]]\n",
      "\n",
      " [[ 40  56  93]\n",
      "  [ 41  57  94]\n",
      "  [ 32  48  85]\n",
      "  ...\n",
      "  [  7  32  52]\n",
      "  [ 21  46  66]\n",
      "  [ 35  60  80]]\n",
      "\n",
      " [[ 41  57  94]\n",
      "  [ 41  57  94]\n",
      "  [ 31  47  84]\n",
      "  ...\n",
      "  [ 13  38  58]\n",
      "  [ 26  51  71]\n",
      "  [ 35  60  80]]]\n"
     ]
    }
   ],
   "source": [
    "import cv2\n",
    "import random\n",
    "\n",
    "# # 读取图片\n",
    "img = cv2.imread('page.jpg')\n",
    "print(img)\n",
    "# 获取图片尺寸\n",
    "#height, width = img.shape[:2]\n",
    "#print(height)"
   ]
  },
  {
   "cell_type": "code",
   "execution_count": 2,
   "metadata": {},
   "outputs": [],
   "source": [
    "\n",
    "# 计算旋转中心点\n",
    "center = (width // 2, height // 2)\n",
    "\n",
    "# 设置旋转角度\n",
    "angle = random.randint(-30, 30)\n",
    "# angle = 30\n",
    "\n",
    "# 计算旋转矩阵\n",
    "rotation_matrix = cv2.getRotationMatrix2D(center, angle, 1.0)\n",
    "\n",
    "# 执行旋转操作\n",
    "rotated_img = cv2.warpAffine(img, rotation_matrix, (width, height))\n",
    "\n",
    "# 保存旋转后的图片\n",
    "# cv2.imwrite('rotated_img.jpg', rotated_img)\n",
    "\n",
    "# 显示旋转后的图片（可选）\n",
    "cv2.imshow('Rotated Image', rotated_img)\n",
    "cv2.waitKey(0)\n",
    "cv2.destroyAllWindows()\n"
   ]
  }
 ],
 "metadata": {
  "kernelspec": {
   "display_name": "OCR",
   "language": "python",
   "name": "python3"
  },
  "language_info": {
   "codemirror_mode": {
    "name": "ipython",
    "version": 3
   },
   "file_extension": ".py",
   "mimetype": "text/x-python",
   "name": "python",
   "nbconvert_exporter": "python",
   "pygments_lexer": "ipython3",
   "version": "3.8.19"
  }
 },
 "nbformat": 4,
 "nbformat_minor": 2
}
